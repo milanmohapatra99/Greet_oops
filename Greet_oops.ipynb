{
 "cells": [
  {
   "cell_type": "markdown",
   "id": "fb752176",
   "metadata": {},
   "source": [
    "create a class with a class attribute a,create an object from it and set a directly using object a=0.does this change the class attribute."
   ]
  },
  {
   "cell_type": "code",
   "execution_count": null,
   "id": "61aa66be",
   "metadata": {},
   "outputs": [],
   "source": [
    "class Sample:\n",
    "    a = \"John\"\n",
    "\n",
    "obj = Sample()\n",
    "obj.a = \"Steve\"\n",
    "\n",
    "\n",
    "print(Sample.a)\n",
    "print(obj.a)"
   ]
  }
 ],
 "metadata": {
  "kernelspec": {
   "display_name": "Python 3 (ipykernel)",
   "language": "python",
   "name": "python3"
  },
  "language_info": {
   "codemirror_mode": {
    "name": "ipython",
    "version": 3
   },
   "file_extension": ".py",
   "mimetype": "text/x-python",
   "name": "python",
   "nbconvert_exporter": "python",
   "pygments_lexer": "ipython3",
   "version": "3.9.7"
  }
 },
 "nbformat": 4,
 "nbformat_minor": 5
}
